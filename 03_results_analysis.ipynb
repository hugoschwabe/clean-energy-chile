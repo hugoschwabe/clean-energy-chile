{
 "cells": [
  {
   "cell_type": "markdown",
   "id": "feea6b3b",
   "metadata": {},
   "source": [
    "## Scenario Analysis for a 100% renewable electricity system in Chile"
   ]
  },
  {
   "cell_type": "code",
   "execution_count": null,
   "id": "de6ce6c3",
   "metadata": {},
   "outputs": [],
   "source": [
    "import geopandas as gpd\n",
    "import pandas as pd\n",
    "import numpy as np\n",
    "import matplotlib.pyplot as plt\n",
    "import pypsa"
   ]
  },
  {
   "cell_type": "code",
   "execution_count": null,
   "id": "a065a3ca",
   "metadata": {},
   "outputs": [],
   "source": [
    "n = pypsa.Network.import_from_netcdf()"
   ]
  },
  {
   "cell_type": "markdown",
   "id": "91b562ff",
   "metadata": {},
   "source": [
    "## Investigation "
   ]
  },
  {
   "cell_type": "markdown",
   "id": "95bd4c1d",
   "metadata": {},
   "source": [
    "##### without a limit on CO2 emissions"
   ]
  },
  {
   "cell_type": "code",
   "execution_count": null,
   "id": "8c8e0d7a",
   "metadata": {},
   "outputs": [
    {
     "data": {
      "text/plain": [
       "15426.5654764576"
      ]
     },
     "metadata": {},
     "output_type": "display_data"
    }
   ],
   "source": [
    "n.objective / 1e9"
   ]
  },
  {
   "cell_type": "markdown",
   "id": "e1e7973e",
   "metadata": {},
   "source": [
    "##### with a CO2 emission reduction of 100% (no emissions)"
   ]
  },
  {
   "cell_type": "code",
   "execution_count": null,
   "id": "9d657b1c",
   "metadata": {},
   "outputs": [],
   "source": [
    "sensitivity = {}\n",
    "\n",
    "# Set CO2 limit to 0\n",
    "co2_limit = 0\n",
    "n.global_constraints.loc[\"CO2Limit\", \"constant\"] = co2_limit * 1e6\n",
    "\n",
    "n.optimize(solver_name=\"gurobi\")\n"
   ]
  },
  {
   "cell_type": "code",
   "execution_count": null,
   "id": "9d34bc14",
   "metadata": {},
   "outputs": [],
   "source": [
    "def system_cost(n):\n",
    "    tsc = n.statistics.capex() + n.statistics.opex()\n",
    "    return tsc.droplevel(0).div(1e6)  # million €/a"
   ]
  },
  {
   "cell_type": "code",
   "execution_count": null,
   "id": "4745a2c4",
   "metadata": {},
   "outputs": [
    {
     "data": {
      "text/plain": [
       "carrier\n",
       "Biomass                         0.000000e+00\n",
       "Coal                            0.000000e+00\n",
       "Gas                             0.000000e+00\n",
       "Hydro                           0.000000e+00\n",
       "Oil                             0.000000e+00\n",
       "Petcoke                         0.000000e+00\n",
       "offwind                         0.000000e+00\n",
       "onwind                          2.125039e+06\n",
       "solar                           6.918677e+06\n",
       "HVAC                            6.154347e+05\n",
       "battery storage                 3.307934e+06\n",
       "hydrogen storage underground    2.459482e+06\n",
       "dtype: float64"
      ]
     },
     "metadata": {},
     "output_type": "display_data"
    }
   ],
   "source": [
    "\n",
    "# System cost in the sensitivity limit co2 = 0\n",
    "sensitivity[co2_limit] = system_cost(n)\n",
    "sensitivity[co2_limit] "
   ]
  },
  {
   "cell_type": "markdown",
   "id": "9d1e4d46",
   "metadata": {},
   "source": [
    "##### Sensitivity analysis: Variations of battery costs"
   ]
  },
  {
   "cell_type": "code",
   "execution_count": null,
   "id": "534a8133",
   "metadata": {},
   "outputs": [],
   "source": [
    "sensitivity_battery = {}\n",
    "\n",
    "for battery_storage_cost in [0, 20, 40, 60, 80, 100]: # %\n",
    "    for index, row in aggregated_regions.iterrows():\n",
    "        bus=index\n",
    "        n.storage_units.loc[f\"{bus} battery storage\", 'capital_cost'] = (battery_storage_cost/100) * costs.at[\"battery inverter\", \"capital_cost\"] + 6 * costs.at[\"battery storage\", \"capital_cost\"]\n",
    "    n.optimize(solver_name='gurobi')\n",
    "    sensitivity_battery[battery_storage_cost] = system_cost(n)\n",
    "sensitivity_battery"
   ]
  },
  {
   "cell_type": "code",
   "execution_count": null,
   "id": "2280e687",
   "metadata": {},
   "outputs": [
    {
     "data": {
      "text/html": [
       "<div>\n",
       "<style scoped>\n",
       "    .dataframe tbody tr th:only-of-type {\n",
       "        vertical-align: middle;\n",
       "    }\n",
       "\n",
       "    .dataframe tbody tr th {\n",
       "        vertical-align: top;\n",
       "    }\n",
       "\n",
       "    .dataframe thead th {\n",
       "        text-align: right;\n",
       "    }\n",
       "</style>\n",
       "<table border=\"1\" class=\"dataframe\">\n",
       "  <thead>\n",
       "    <tr style=\"text-align: right;\">\n",
       "      <th></th>\n",
       "      <th>0</th>\n",
       "      <th>20</th>\n",
       "      <th>40</th>\n",
       "      <th>60</th>\n",
       "      <th>80</th>\n",
       "      <th>100</th>\n",
       "    </tr>\n",
       "    <tr>\n",
       "      <th>carrier</th>\n",
       "      <th></th>\n",
       "      <th></th>\n",
       "      <th></th>\n",
       "      <th></th>\n",
       "      <th></th>\n",
       "      <th></th>\n",
       "    </tr>\n",
       "  </thead>\n",
       "  <tbody>\n",
       "    <tr>\n",
       "      <th>Biomass</th>\n",
       "      <td>0.000000e+00</td>\n",
       "      <td>0.000000e+00</td>\n",
       "      <td>0.000000e+00</td>\n",
       "      <td>0.000000e+00</td>\n",
       "      <td>0.000000e+00</td>\n",
       "      <td>0.000000e+00</td>\n",
       "    </tr>\n",
       "    <tr>\n",
       "      <th>Coal</th>\n",
       "      <td>0.000000e+00</td>\n",
       "      <td>0.000000e+00</td>\n",
       "      <td>0.000000e+00</td>\n",
       "      <td>0.000000e+00</td>\n",
       "      <td>0.000000e+00</td>\n",
       "      <td>0.000000e+00</td>\n",
       "    </tr>\n",
       "    <tr>\n",
       "      <th>Gas</th>\n",
       "      <td>0.000000e+00</td>\n",
       "      <td>0.000000e+00</td>\n",
       "      <td>0.000000e+00</td>\n",
       "      <td>0.000000e+00</td>\n",
       "      <td>0.000000e+00</td>\n",
       "      <td>0.000000e+00</td>\n",
       "    </tr>\n",
       "    <tr>\n",
       "      <th>Hydro</th>\n",
       "      <td>0.000000e+00</td>\n",
       "      <td>0.000000e+00</td>\n",
       "      <td>0.000000e+00</td>\n",
       "      <td>0.000000e+00</td>\n",
       "      <td>0.000000e+00</td>\n",
       "      <td>0.000000e+00</td>\n",
       "    </tr>\n",
       "    <tr>\n",
       "      <th>Oil</th>\n",
       "      <td>0.000000e+00</td>\n",
       "      <td>0.000000e+00</td>\n",
       "      <td>0.000000e+00</td>\n",
       "      <td>0.000000e+00</td>\n",
       "      <td>0.000000e+00</td>\n",
       "      <td>0.000000e+00</td>\n",
       "    </tr>\n",
       "    <tr>\n",
       "      <th>Petcoke</th>\n",
       "      <td>0.000000e+00</td>\n",
       "      <td>0.000000e+00</td>\n",
       "      <td>0.000000e+00</td>\n",
       "      <td>0.000000e+00</td>\n",
       "      <td>0.000000e+00</td>\n",
       "      <td>0.000000e+00</td>\n",
       "    </tr>\n",
       "    <tr>\n",
       "      <th>offwind</th>\n",
       "      <td>0.000000e+00</td>\n",
       "      <td>0.000000e+00</td>\n",
       "      <td>0.000000e+00</td>\n",
       "      <td>0.000000e+00</td>\n",
       "      <td>0.000000e+00</td>\n",
       "      <td>0.000000e+00</td>\n",
       "    </tr>\n",
       "    <tr>\n",
       "      <th>onwind</th>\n",
       "      <td>1.411010e+06</td>\n",
       "      <td>1.410571e+06</td>\n",
       "      <td>1.620805e+06</td>\n",
       "      <td>2.094136e+06</td>\n",
       "      <td>2.124376e+06</td>\n",
       "      <td>2.125039e+06</td>\n",
       "    </tr>\n",
       "    <tr>\n",
       "      <th>solar</th>\n",
       "      <td>7.101398e+06</td>\n",
       "      <td>7.103749e+06</td>\n",
       "      <td>7.046762e+06</td>\n",
       "      <td>6.905351e+06</td>\n",
       "      <td>6.913359e+06</td>\n",
       "      <td>6.918677e+06</td>\n",
       "    </tr>\n",
       "    <tr>\n",
       "      <th>HVAC</th>\n",
       "      <td>5.895970e+05</td>\n",
       "      <td>5.909596e+05</td>\n",
       "      <td>5.981777e+05</td>\n",
       "      <td>6.138964e+05</td>\n",
       "      <td>6.175704e+05</td>\n",
       "      <td>6.154347e+05</td>\n",
       "    </tr>\n",
       "    <tr>\n",
       "      <th>battery storage</th>\n",
       "      <td>2.773456e+06</td>\n",
       "      <td>2.907009e+06</td>\n",
       "      <td>3.004207e+06</td>\n",
       "      <td>3.062226e+06</td>\n",
       "      <td>3.178777e+06</td>\n",
       "      <td>3.307934e+06</td>\n",
       "    </tr>\n",
       "    <tr>\n",
       "      <th>hydrogen storage underground</th>\n",
       "      <td>2.873910e+06</td>\n",
       "      <td>2.875857e+06</td>\n",
       "      <td>2.756222e+06</td>\n",
       "      <td>2.485295e+06</td>\n",
       "      <td>2.459877e+06</td>\n",
       "      <td>2.459482e+06</td>\n",
       "    </tr>\n",
       "  </tbody>\n",
       "</table>\n",
       "</div>"
      ],
      "text/plain": [
       "                                       0             20            40   \\\n",
       "carrier                                                                  \n",
       "Biomass                       0.000000e+00  0.000000e+00  0.000000e+00   \n",
       "Coal                          0.000000e+00  0.000000e+00  0.000000e+00   \n",
       "Gas                           0.000000e+00  0.000000e+00  0.000000e+00   \n",
       "Hydro                         0.000000e+00  0.000000e+00  0.000000e+00   \n",
       "Oil                           0.000000e+00  0.000000e+00  0.000000e+00   \n",
       "Petcoke                       0.000000e+00  0.000000e+00  0.000000e+00   \n",
       "offwind                       0.000000e+00  0.000000e+00  0.000000e+00   \n",
       "onwind                        1.411010e+06  1.410571e+06  1.620805e+06   \n",
       "solar                         7.101398e+06  7.103749e+06  7.046762e+06   \n",
       "HVAC                          5.895970e+05  5.909596e+05  5.981777e+05   \n",
       "battery storage               2.773456e+06  2.907009e+06  3.004207e+06   \n",
       "hydrogen storage underground  2.873910e+06  2.875857e+06  2.756222e+06   \n",
       "\n",
       "                                       60            80            100  \n",
       "carrier                                                                 \n",
       "Biomass                       0.000000e+00  0.000000e+00  0.000000e+00  \n",
       "Coal                          0.000000e+00  0.000000e+00  0.000000e+00  \n",
       "Gas                           0.000000e+00  0.000000e+00  0.000000e+00  \n",
       "Hydro                         0.000000e+00  0.000000e+00  0.000000e+00  \n",
       "Oil                           0.000000e+00  0.000000e+00  0.000000e+00  \n",
       "Petcoke                       0.000000e+00  0.000000e+00  0.000000e+00  \n",
       "offwind                       0.000000e+00  0.000000e+00  0.000000e+00  \n",
       "onwind                        2.094136e+06  2.124376e+06  2.125039e+06  \n",
       "solar                         6.905351e+06  6.913359e+06  6.918677e+06  \n",
       "HVAC                          6.138964e+05  6.175704e+05  6.154347e+05  \n",
       "battery storage               3.062226e+06  3.178777e+06  3.307934e+06  \n",
       "hydrogen storage underground  2.485295e+06  2.459877e+06  2.459482e+06  "
      ]
     },
     "metadata": {},
     "output_type": "display_data"
    }
   ],
   "source": [
    "sensitivity_battery = pd.DataFrame(sensitivity_battery ) # million €/a\n",
    "sensitivity_battery "
   ]
  },
  {
   "cell_type": "code",
   "execution_count": null,
   "id": "bc612301",
   "metadata": {},
   "outputs": [
    {
     "data": {
      "text/plain": [
       "[<matplotlib.lines.Line2D at 0x2a9d1d27590>]"
      ]
     },
     "metadata": {},
     "output_type": "display_data"
    },
    {
     "data": {
      "image/png": "[encoded data removed]",
      "text/plain": [
       "<Figure size 1200x600 with 1 Axes>"
      ]
     },
     "metadata": {},
     "output_type": "display_data"
    }
   ],
   "source": [
    "fig, ax = plt.subplots(figsize=(12,6))\n",
    "plt.xlabel('Battery inverter costs in %', fontsize = 12)\n",
    "plt.ylabel('System costs in M€/a', fontsize = 12)\n",
    "plt.grid(alpha=0.3, axis = 'y', linewidth = 0.7)\n",
    "plt.plot(sensitivity_battery.sum())"
   ]
  },
  {
   "cell_type": "code",
   "execution_count": null,
   "id": "63f8b665",
   "metadata": {},
   "outputs": [],
   "source": [
    "def system_cost(n):\n",
    "    tsc = n.statistics.capex() + n.statistics.opex()\n",
    "    return tsc.droplevel(0).div(1e6)  # million €/a"
   ]
  },
  {
   "cell_type": "code",
   "execution_count": null,
   "id": "a36af990",
   "metadata": {},
   "outputs": [
    {
     "data": {
      "text/plain": [
       "carrier\n",
       "battery storage                 3.307934e+06\n",
       "hydrogen storage underground    2.459482e+06\n",
       "HVAC                            6.154347e+05\n",
       "Biomass                         0.000000e+00\n",
       "Coal                            0.000000e+00\n",
       "Gas                             0.000000e+00\n",
       "Hydro                           0.000000e+00\n",
       "Oil                             0.000000e+00\n",
       "Petcoke                         0.000000e+00\n",
       "offwind                         0.000000e+00\n",
       "onwind                          2.125039e+06\n",
       "solar                           6.918677e+06\n",
       "dtype: float64"
      ]
     },
     "metadata": {},
     "output_type": "display_data"
    }
   ],
   "source": [
    "system_cost(n)"
   ]
  },
  {
   "cell_type": "markdown",
   "id": "eff1ceec",
   "metadata": {},
   "source": [
    "##### sensitivity analysis with a CO2 emission reduction"
   ]
  },
  {
   "cell_type": "code",
   "execution_count": null,
   "id": "086e59a8",
   "metadata": {},
   "outputs": [],
   "source": [
    "sensitivity = {}\n",
    "for co2 in [150, 100, 50, 25, 0]:\n",
    "    n.global_constraints.loc[\"CO2Limit\", \"constant\"] = co2 * 1e6\n",
    "    n.optimize(solver_name=\"gurobi\")\n",
    "    sensitivity[co2] = system_cost(n)"
   ]
  },
  {
   "cell_type": "code",
   "execution_count": null,
   "id": "abd9f976",
   "metadata": {},
   "outputs": [
    {
     "data": {
      "text/plain": [
       "{150: carrier\n",
       " battery storage                 3.307934e+06\n",
       " hydrogen storage underground    2.459482e+06\n",
       " HVAC                            6.154347e+05\n",
       " Biomass                         0.000000e+00\n",
       " Coal                            0.000000e+00\n",
       " Gas                             0.000000e+00\n",
       " Hydro                           0.000000e+00\n",
       " Oil                             0.000000e+00\n",
       " Petcoke                         0.000000e+00\n",
       " offwind                         0.000000e+00\n",
       " onwind                          2.125039e+06\n",
       " solar                           6.918677e+06\n",
       " dtype: float64,\n",
       " 100: carrier\n",
       " battery storage                 3.307934e+06\n",
       " hydrogen storage underground    2.459482e+06\n",
       " HVAC                            6.154347e+05\n",
       " Biomass                         0.000000e+00\n",
       " Coal                            0.000000e+00\n",
       " Gas                             0.000000e+00\n",
       " Hydro                           0.000000e+00\n",
       " Oil                             0.000000e+00\n",
       " Petcoke                         0.000000e+00\n",
       " offwind                         0.000000e+00\n",
       " onwind                          2.125039e+06\n",
       " solar                           6.918677e+06\n",
       " dtype: float64,\n",
       " 50: carrier\n",
       " battery storage                 3.307934e+06\n",
       " hydrogen storage underground    2.459482e+06\n",
       " HVAC                            6.154347e+05\n",
       " Biomass                         0.000000e+00\n",
       " Coal                            0.000000e+00\n",
       " Gas                             0.000000e+00\n",
       " Hydro                           0.000000e+00\n",
       " Oil                             0.000000e+00\n",
       " Petcoke                         0.000000e+00\n",
       " offwind                         0.000000e+00\n",
       " onwind                          2.125039e+06\n",
       " solar                           6.918677e+06\n",
       " dtype: float64,\n",
       " 25: carrier\n",
       " battery storage                 3.307934e+06\n",
       " hydrogen storage underground    2.459482e+06\n",
       " HVAC                            6.154347e+05\n",
       " Biomass                         0.000000e+00\n",
       " Coal                            0.000000e+00\n",
       " Gas                             0.000000e+00\n",
       " Hydro                           0.000000e+00\n",
       " Oil                             0.000000e+00\n",
       " Petcoke                         0.000000e+00\n",
       " offwind                         0.000000e+00\n",
       " onwind                          2.125039e+06\n",
       " solar                           6.918677e+06\n",
       " dtype: float64,\n",
       " 0: carrier\n",
       " battery storage                 3.307934e+06\n",
       " hydrogen storage underground    2.459482e+06\n",
       " HVAC                            6.154347e+05\n",
       " Biomass                         0.000000e+00\n",
       " Coal                            0.000000e+00\n",
       " Gas                             0.000000e+00\n",
       " Hydro                           0.000000e+00\n",
       " Oil                             0.000000e+00\n",
       " Petcoke                         0.000000e+00\n",
       " offwind                         0.000000e+00\n",
       " onwind                          2.125039e+06\n",
       " solar                           6.918677e+06\n",
       " dtype: float64}"
      ]
     },
     "metadata": {},
     "output_type": "display_data"
    }
   ],
   "source": [
    "sensitivity"
   ]
  },
  {
   "cell_type": "code",
   "execution_count": null,
   "id": "47e8bc1b",
   "metadata": {},
   "outputs": [
    {
     "data": {
      "text/html": [
       "<div>\n",
       "<style scoped>\n",
       "    .dataframe tbody tr th:only-of-type {\n",
       "        vertical-align: middle;\n",
       "    }\n",
       "\n",
       "    .dataframe tbody tr th {\n",
       "        vertical-align: top;\n",
       "    }\n",
       "\n",
       "    .dataframe thead th {\n",
       "        text-align: right;\n",
       "    }\n",
       "</style>\n",
       "<table border=\"1\" class=\"dataframe\">\n",
       "  <thead>\n",
       "    <tr style=\"text-align: right;\">\n",
       "      <th>carrier</th>\n",
       "      <th>battery storage</th>\n",
       "      <th>hydrogen storage underground</th>\n",
       "      <th>HVAC</th>\n",
       "      <th>Biomass</th>\n",
       "      <th>Coal</th>\n",
       "      <th>Gas</th>\n",
       "      <th>Hydro</th>\n",
       "      <th>Oil</th>\n",
       "      <th>Petcoke</th>\n",
       "      <th>offwind</th>\n",
       "      <th>onwind</th>\n",
       "      <th>solar</th>\n",
       "    </tr>\n",
       "  </thead>\n",
       "  <tbody>\n",
       "    <tr>\n",
       "      <th>150</th>\n",
       "      <td>3307.934087</td>\n",
       "      <td>2459.481514</td>\n",
       "      <td>615.434741</td>\n",
       "      <td>0.0</td>\n",
       "      <td>0.0</td>\n",
       "      <td>0.0</td>\n",
       "      <td>0.0</td>\n",
       "      <td>0.0</td>\n",
       "      <td>0.0</td>\n",
       "      <td>0.0</td>\n",
       "      <td>2125.038517</td>\n",
       "      <td>6918.676616</td>\n",
       "    </tr>\n",
       "    <tr>\n",
       "      <th>100</th>\n",
       "      <td>3307.934087</td>\n",
       "      <td>2459.481514</td>\n",
       "      <td>615.434741</td>\n",
       "      <td>0.0</td>\n",
       "      <td>0.0</td>\n",
       "      <td>0.0</td>\n",
       "      <td>0.0</td>\n",
       "      <td>0.0</td>\n",
       "      <td>0.0</td>\n",
       "      <td>0.0</td>\n",
       "      <td>2125.038517</td>\n",
       "      <td>6918.676616</td>\n",
       "    </tr>\n",
       "    <tr>\n",
       "      <th>50</th>\n",
       "      <td>3307.934087</td>\n",
       "      <td>2459.481514</td>\n",
       "      <td>615.434741</td>\n",
       "      <td>0.0</td>\n",
       "      <td>0.0</td>\n",
       "      <td>0.0</td>\n",
       "      <td>0.0</td>\n",
       "      <td>0.0</td>\n",
       "      <td>0.0</td>\n",
       "      <td>0.0</td>\n",
       "      <td>2125.038517</td>\n",
       "      <td>6918.676616</td>\n",
       "    </tr>\n",
       "    <tr>\n",
       "      <th>25</th>\n",
       "      <td>3307.934087</td>\n",
       "      <td>2459.481514</td>\n",
       "      <td>615.434741</td>\n",
       "      <td>0.0</td>\n",
       "      <td>0.0</td>\n",
       "      <td>0.0</td>\n",
       "      <td>0.0</td>\n",
       "      <td>0.0</td>\n",
       "      <td>0.0</td>\n",
       "      <td>0.0</td>\n",
       "      <td>2125.038517</td>\n",
       "      <td>6918.676616</td>\n",
       "    </tr>\n",
       "    <tr>\n",
       "      <th>0</th>\n",
       "      <td>3307.934087</td>\n",
       "      <td>2459.481514</td>\n",
       "      <td>615.434741</td>\n",
       "      <td>0.0</td>\n",
       "      <td>0.0</td>\n",
       "      <td>0.0</td>\n",
       "      <td>0.0</td>\n",
       "      <td>0.0</td>\n",
       "      <td>0.0</td>\n",
       "      <td>0.0</td>\n",
       "      <td>2125.038517</td>\n",
       "      <td>6918.676616</td>\n",
       "    </tr>\n",
       "  </tbody>\n",
       "</table>\n",
       "</div>"
      ],
      "text/plain": [
       "carrier  battery storage  hydrogen storage underground        HVAC  Biomass  \\\n",
       "150          3307.934087                   2459.481514  615.434741      0.0   \n",
       "100          3307.934087                   2459.481514  615.434741      0.0   \n",
       "50           3307.934087                   2459.481514  615.434741      0.0   \n",
       "25           3307.934087                   2459.481514  615.434741      0.0   \n",
       "0            3307.934087                   2459.481514  615.434741      0.0   \n",
       "\n",
       "carrier  Coal  Gas  Hydro  Oil  Petcoke  offwind       onwind        solar  \n",
       "150       0.0  0.0    0.0  0.0      0.0      0.0  2125.038517  6918.676616  \n",
       "100       0.0  0.0    0.0  0.0      0.0      0.0  2125.038517  6918.676616  \n",
       "50        0.0  0.0    0.0  0.0      0.0      0.0  2125.038517  6918.676616  \n",
       "25        0.0  0.0    0.0  0.0      0.0      0.0  2125.038517  6918.676616  \n",
       "0         0.0  0.0    0.0  0.0      0.0      0.0  2125.038517  6918.676616  "
      ]
     },
     "metadata": {},
     "output_type": "display_data"
    }
   ],
   "source": [
    "df = pd.DataFrame(sensitivity).T.div(1e3)\n",
    "df"
   ]
  },
  {
   "cell_type": "code",
   "execution_count": null,
   "id": "c582fbe1",
   "metadata": {},
   "outputs": [
    {
     "name": "stdout",
     "output_type": "stream",
     "text": [
      "carrier\n",
      "battery storage                 16539.670437\n",
      "hydrogen storage underground    12297.407571\n",
      "HVAC                             3077.173707\n",
      "Biomass                             0.000000\n",
      "Coal                                0.000000\n",
      "Gas                                 0.000000\n",
      "Hydro                               0.000000\n",
      "Oil                                 0.000000\n",
      "Petcoke                             0.000000\n",
      "offwind                             0.000000\n",
      "onwind                          10625.192587\n",
      "solar                           34593.383080\n",
      "dtype: float64\n"
     ]
    }
   ],
   "source": [
    "print(df.sum())"
   ]
  },
  {
   "cell_type": "code",
   "execution_count": null,
   "id": "6cd58126",
   "metadata": {},
   "outputs": [
    {
     "data": {
      "image/png": "[encoded data removed]",
      "text/plain": [
       "<Figure size 400x400 with 1 Axes>"
      ]
     },
     "metadata": {},
     "output_type": "display_data"
    }
   ],
   "source": [
    "color_map = {\n",
    "    'battery storage': 'blue', \n",
    "    'hydrogen storage underground': 'orange',\n",
    "    \n",
    "    'HVAC': 'green', \n",
    "    'Biomass': 'red',\n",
    "    'Coal': 'black',\n",
    "    'Gas': 'grey',\n",
    "    'Hydro': 'cyan',\n",
    "    'Oil': 'brown',\n",
    "    'Petcoke': 'lightgrey',\n",
    "    'offwind': 'cyan',\n",
    "    'onwind': 'royalblue',\n",
    "    'solar': 'gold'\n",
    "    \n",
    "}\n",
    "\n",
    "colors = df.columns.map(lambda x: color_map[x])\n",
    "\n",
    "# Plotting the area chart\n",
    "df.plot.area(\n",
    "    stacked=True,\n",
    "    linewidth=0,\n",
    "    color=colors,\n",
    "    figsize=(4, 4),\n",
    "    xlim=(0, 150),\n",
    "    xlabel=r\"CO$_2$ emissions [Mt/a]\",\n",
    "    ylabel=\"System cost [bn€/a]\",\n",
    "    ylim=(0, 100),\n",
    ")\n",
    "\n",
    "# Adjust legend\n",
    "plt.legend(frameon=False, loc=(1.05, 0))\n",
    "\n",
    "# Show plot\n",
    "plt.show()"
   ]
  },
  {
   "cell_type": "code",
   "execution_count": null,
   "id": "588c5eb1",
   "metadata": {},
   "outputs": [
    {
     "data": {
      "image/png": "[encoded data removed]",
      "text/plain": [
       "<Figure size 1200x500 with 1 Axes>"
      ]
     },
     "metadata": {},
     "output_type": "display_data"
    }
   ],
   "source": [
    "# Energy mix in Chile in 2050, TWh\n",
    "gen = pd.DataFrame(n.snapshot_weightings.generators @ n.generators_t.p.div(1e6)) # TWh\n",
    "gen[\"technology\"] = gen.index.str.split(\" \").str[-1]\n",
    "result = gen.groupby(\"technology\").sum()\n",
    "result = result['generators']\n",
    "\n",
    "fig, ax = plt.subplots(figsize=(12,5))\n",
    "result.plot.bar()\n",
    "ax.set_ylabel(\"Energy in TWh/a\")\n",
    "ax.grid(alpha=0.7, axis = 'y', linewidth = 0.7)\n",
    "plt.xticks(rotation=45)\n",
    "bars = ax.bar(\n",
    "    x=np.arange(result.size),\n",
    "    height=result,\n",
    ")\n",
    "for bar in bars:\n",
    "  ax.text(\n",
    "      bar.get_x() + bar.get_width() / 2,\n",
    "      bar.get_height() + 0.3,\n",
    "      round(bar.get_height(), 1),\n",
    "      horizontalalignment='center',\n",
    "      color=bars[0].get_facecolor(),\n",
    "      #weight='bold'\n",
    "  )"
   ]
  },
  {
   "cell_type": "code",
   "execution_count": null,
   "id": "6a19cdf3",
   "metadata": {},
   "outputs": [],
   "source": [
    "def plot_dispatch(n, time):\n",
    "    \n",
    "    p_by_carrier = n.generators_t.p.groupby(n.generators.carrier, axis=1).sum().div(1e3)\n",
    "    \n",
    "    if not n.storage_units.empty:\n",
    "        sto = n.storage_units_t.p.groupby(n.storage_units.carrier, axis=1).sum().div(1e3)\n",
    "        p_by_carrier = pd.concat([p_by_carrier, sto], axis=1)\n",
    "    \n",
    "    fig, ax = plt.subplots(figsize=(15, 8))\n",
    "\n",
    "    color = {\n",
    "    'battery storage': 'blue', \n",
    "    'hydrogen storage underground': 'orange',\n",
    "    \n",
    "    'HVAC': 'green', \n",
    "    'Biomass': 'red',\n",
    "    'Coal': 'black',\n",
    "    'Gas': 'grey',\n",
    "    'Hydro': 'cyan',\n",
    "    'Oil': 'brown',\n",
    "    'Petcoke': 'lightgrey',\n",
    "    'offwind': 'cyan',\n",
    "    'onwind': 'royalblue',\n",
    "    'solar': 'gold'\n",
    "    \n",
    "}\n",
    "    \n",
    "    \n",
    "    \n",
    "    p_by_carrier.where(p_by_carrier>0).loc[time].plot.area(\n",
    "        ax=ax,\n",
    "        linewidth=0,\n",
    "        color=color,\n",
    "    )\n",
    "    \n",
    "    charge = p_by_carrier.where(p_by_carrier<0).dropna(how='all', axis=1).loc[time]\n",
    "    \n",
    "    if not charge.empty:\n",
    "\n",
    "        charge.plot.area(\n",
    "            ax=ax,\n",
    "            linewidth=0,\n",
    "            color=charge.columns.map(n.carriers.color),\n",
    "        )\n",
    "    \n",
    "    n.loads_t.p_set.sum(axis=1).loc[time].div(1e3).plot(ax=ax, c='k')\n",
    "\n",
    "    plt.legend(loc=(1.05,0))\n",
    "    ax.set_ylabel(\"GW\")\n",
    "    ax.set_ylim(-10, 20)"
   ]
  },
  {
   "cell_type": "code",
   "execution_count": null,
   "id": "db386d84",
   "metadata": {},
   "outputs": [],
   "source": [
    "winter_dispatch = plot_dispatch(n, time=\"2013-7\")"
   ]
  },
  {
   "cell_type": "code",
   "execution_count": null,
   "id": "a1f0bb7d",
   "metadata": {},
   "outputs": [],
   "source": []
  }
 ],
 "metadata": {
  "language_info": {
   "name": "python"
  }
 },
 "nbformat": 4,
 "nbformat_minor": 5
}
